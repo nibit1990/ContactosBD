{
  "nbformat": 4,
  "nbformat_minor": 0,
  "metadata": {
    "colab": {
      "name": "hello_world.ipynb",
      "version": "0.3.2",
      "provenance": [],
      "collapsed_sections": [
        "copyright-notice"
      ],
      "include_colab_link": true
    },
    "kernelspec": {
      "name": "python2",
      "display_name": "Python 2"
    }
  },
  "cells": [
    {
      "cell_type": "markdown",
      "metadata": {
        "id": "view-in-github",
        "colab_type": "text"
      },
      "source": [
        "<a href=\"https://colab.research.google.com/github/nibit1990/ContactosBD/blob/master/hello_world.ipynb\" target=\"_parent\"><img src=\"https://colab.research.google.com/assets/colab-badge.svg\" alt=\"Open In Colab\"/></a>"
      ]
    },
    {
      "cell_type": "markdown",
      "metadata": {
        "colab_type": "text",
        "id": "copyright-notice"
      },
      "source": [
        "#### Copyright 2017 Google LLC."
      ]
    },
    {
      "cell_type": "code",
      "metadata": {
        "colab_type": "code",
        "id": "copyright-notice2",
        "cellView": "both",
        "colab": {}
      },
      "source": [
        "# Licensed under the Apache License, Version 2.0 (the \"License\");\n",
        "# you may not use this file except in compliance with the License.\n",
        "# You may obtain a copy of the License at\n",
        "#\n",
        "# https://www.apache.org/licenses/LICENSE-2.0\n",
        "#\n",
        "# Unless required by applicable law or agreed to in writing, software\n",
        "# distributed under the License is distributed on an \"AS IS\" BASIS,\n",
        "# WITHOUT WARRANTIES OR CONDITIONS OF ANY KIND, either express or implied.\n",
        "# See the License for the specific language governing permissions and\n",
        "# limitations under the License."
      ],
      "execution_count": 0,
      "outputs": []
    },
    {
      "cell_type": "markdown",
      "metadata": {
        "colab_type": "text",
        "id": "cH-YtyZs7Gcg"
      },
      "source": [
        " # Trabajo previo: Hello World"
      ]
    },
    {
      "cell_type": "markdown",
      "metadata": {
        "colab_type": "text",
        "id": "r0QBC2kTixPn"
      },
      "source": [
        " **Objetivo de aprendizaje:** Ejecutar un programa de TensorFlow en el navegador"
      ]
    },
    {
      "cell_type": "markdown",
      "metadata": {
        "colab_type": "text",
        "id": "33fL46pgixPo"
      },
      "source": [
        " Este es el programa de TensorFlow \"Hello World\":"
      ]
    },
    {
      "cell_type": "code",
      "metadata": {
        "colab_type": "code",
        "id": "bRuPN7qo7ICp",
        "cellView": "both",
        "colab": {
          "base_uri": "https://localhost:8080/",
          "height": 34
        },
        "outputId": "49b72338-ba39-4a23-ec85-49e6174e139a"
      },
      "source": [
        "from __future__ import print_function\n",
        "\n",
        "import tensorflow as tf\n",
        "\n",
        "c = tf.constant('Hello, world!')\n",
        "\n",
        "with tf.Session() as sess:\n",
        "\n",
        "    print(sess.run(c))"
      ],
      "execution_count": 1,
      "outputs": [
        {
          "output_type": "stream",
          "text": [
            "Hello, world!\n"
          ],
          "name": "stdout"
        }
      ]
    },
    {
      "cell_type": "markdown",
      "metadata": {
        "colab_type": "text",
        "id": "Bl1nAshab6m5"
      },
      "source": [
        " ## Para ejecutar este programa\n",
        "\n",
        "  1. Haz clic en cualquier parte del bloque de código (p. ej., en la palabra `importar`).\n",
        "\n",
        "  2. Haz clic en el ícono de triángulo orientado hacia la derecha que se encuentra en la esquina superior izquierda del bloque de código o presiona ⌘/Ctrl-Intro.\n",
        "\n",
        "     El programa se tomará unos segundos en ejecutarse. Si el proceso se completa correctamente, el programa mostrará la frase `Hello, world!` debajo del bloque de código.\n",
        "\n",
        "Este programa completo consiste en un bloque de código único. No obstante, la mayoría de los ejercicios incluyen varios bloques de código. En esos casos, debes **ejecutar los bloques de código individualmente en secuencia, del primero al último.** \n",
        "\n",
        "Si se ejecutan los bloques de código de forma aleatoria, por lo general se producen errores."
      ]
    },
    {
      "cell_type": "markdown",
      "metadata": {
        "colab_type": "text",
        "id": "UpzZ0Gv-uKf_"
      },
      "source": [
        " ## Combinaciones de teclas útiles\n",
        "\n",
        "* **⌘/Ctrl+m,b:** crea una celda de código vacía debajo de la celda seleccionada\n",
        "* **⌘/Ctrl+m,i:** interrumpe la ejecución de una celda\n",
        "* **⌘/Ctrl+m,h:** muestra una lista de todas las combinaciones de teclas\n",
        "* Para realizar una documentación en cualquier método de la API de TensorFlow, coloca el cursor después del paréntesis y presiona la **tecla de tabulación**:\n",
        "\n",
        "![documentación emergente para el método TensorFlow tf.constant](https://download.mlcc.google.com/mledu-images/tf_constant_pop_up_doc.png)"
      ]
    }
  ]
}